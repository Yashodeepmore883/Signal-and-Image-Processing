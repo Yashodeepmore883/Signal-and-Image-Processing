{
  "cells": [
    {
      "cell_type": "code",
      "source": [
        "import numpy as np"
      ],
      "outputs": [],
      "execution_count": 1,
      "metadata": {},
      "id": "f54533ff"
    },
    {
      "cell_type": "code",
      "source": [
        "def twiddle_factor_matrix(N):\n",
        "    W = np.zeros((N,N), dtype=np.complex128)\n",
        "    for n in range(N):\n",
        "        for k in range(N):\n",
        "            W[n,k] = np.exp(-2j * np.pi * n * k / N)\n",
        "    return W"
      ],
      "outputs": [],
      "execution_count": 2,
      "metadata": {},
      "id": "5268b97c"
    },
    {
      "cell_type": "code",
      "source": [
        "twiddle_matrix_4 = twiddle_factor_matrix(4)\n",
        "print(\"Twiddle Factor Matrix (N=4):\\n\", twiddle_matrix_4)"
      ],
      "outputs": [
        {
          "output_type": "stream",
          "name": "stdout",
          "text": "Twiddle Factor Matrix (N=4):\n [[ 1.0000000e+00+0.0000000e+00j  1.0000000e+00+0.0000000e+00j\n   1.0000000e+00+0.0000000e+00j  1.0000000e+00+0.0000000e+00j]\n [ 1.0000000e+00+0.0000000e+00j  6.1232340e-17-1.0000000e+00j\n  -1.0000000e+00-1.2246468e-16j -1.8369702e-16+1.0000000e+00j]\n [ 1.0000000e+00+0.0000000e+00j -1.0000000e+00-1.2246468e-16j\n   1.0000000e+00+2.4492936e-16j -1.0000000e+00-3.6739404e-16j]\n [ 1.0000000e+00+0.0000000e+00j -1.8369702e-16+1.0000000e+00j\n  -1.0000000e+00-3.6739404e-16j  5.5109106e-16-1.0000000e+00j]]\n"
        }
      ],
      "execution_count": 3,
      "metadata": {},
      "id": "9bdfc0b8"
    },
    {
      "cell_type": "code",
      "source": [
        "from scipy.fft import fft,ifft\n",
        "\n",
        "x = np.array([1,2,2,1])\n",
        "\n",
        "DFT_matrix_method = np.dot(twiddle_matrix_4,x)\n",
        "\n",
        "DFT_fft_function =fft(x)\n",
        "\n",
        "print(\"DFT using Matrix Method:\", DFT_matrix_method)\n",
        "print(\"DFT using FFT Function:\", DFT_fft_function)"
      ],
      "outputs": [
        {
          "output_type": "stream",
          "name": "stdout",
          "text": "DFT using Matrix Method: [ 6.+0.0000000e+00j -1.-1.0000000e+00j  0.-1.2246468e-16j\n -1.+1.0000000e+00j]\nDFT using FFT Function: [ 6.-0.j -1.-1.j  0.-0.j -1.+1.j]\n"
        }
      ],
      "execution_count": 4,
      "metadata": {},
      "id": "3d7584a7"
    },
    {
      "cell_type": "code",
      "source": [
        "IDFT_matrix_method = np.dot(np.conjugate(twiddle_matrix_4).T,DFT_matrix_method)\n",
        "IDFT_fft_function = ifft(DFT_fft_function)\n",
        "\n",
        "print(\"IDFT using Matrix Method:\", IDFT_matrix_method)\n",
        "print(\"IDFT using FFT Function:\", IDFT_fft_function)"
      ],
      "outputs": [
        {
          "output_type": "stream",
          "name": "stdout",
          "text": "IDFT using Matrix Method: [4.-1.22124533e-15j 8.-3.33066907e-16j 8.+3.33066907e-16j\n 4.+1.22124533e-15j]\nIDFT using FFT Function: [1.+0.j 2.+0.j 2.-0.j 1.+0.j]\n"
        }
      ],
      "execution_count": 5,
      "metadata": {},
      "id": "9ca2f223"
    },
    {
      "cell_type": "code",
      "source": [
        "import time"
      ],
      "outputs": [],
      "execution_count": 6,
      "metadata": {},
      "id": "ecf632f9"
    },
    {
      "cell_type": "code",
      "source": [
        "start_time = time.time()\n",
        "DFT_matrix_method = np.dot(twiddle_matrix_4,x)\n",
        "matrix_method_time = time.time() - start_time\n",
        "\n",
        "start_time = time.time()\n",
        "DFT_fft_function = fft(x)\n",
        "fft_function_time = time.time() - start_time\n",
        "\n",
        "print(\"Execution Time (Matrix Method):\", matrix_method_time, \"seconds\")\n",
        "print(\"Execution Time (FFT Function):\", fft_function_time, \"seconds\")"
      ],
      "outputs": [
        {
          "output_type": "stream",
          "name": "stdout",
          "text": "Execution Time (Matrix Method): 0.0 seconds\nExecution Time (FFT Function): 0.0 seconds\n"
        }
      ],
      "execution_count": 7,
      "metadata": {},
      "id": "29a16037"
    },
    {
      "cell_type": "code",
      "source": [],
      "outputs": [],
      "execution_count": null,
      "metadata": {},
      "id": "ab27bbe8"
    }
  ],
  "metadata": {
    "kernelspec": {
      "display_name": "Python 3 (ipykernel)",
      "language": "python",
      "name": "python3"
    },
    "language_info": {
      "codemirror_mode": {
        "name": "ipython",
        "version": 3
      },
      "file_extension": ".py",
      "mimetype": "text/x-python",
      "name": "python",
      "nbconvert_exporter": "python",
      "pygments_lexer": "ipython3",
      "version": "3.9.12"
    },
    "nteract": {
      "version": "nteract-front-end@1.0.0"
    }
  },
  "nbformat": 4,
  "nbformat_minor": 5
}